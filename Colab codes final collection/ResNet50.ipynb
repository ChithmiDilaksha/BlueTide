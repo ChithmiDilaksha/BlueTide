{
  "cells": [
    {
      "cell_type": "code",
      "execution_count": null,
      "metadata": {
        "id": "_l5u4jOkmPh5"
      },
      "outputs": [],
      "source": [
        "import tensorflow as tf\n",
        "from tensorflow.keras import layers, models, optimizers, losses\n",
        "from tensorflow.keras.callbacks import ModelCheckpoint, LearningRateScheduler\n",
        "import numpy as np\n",
        "import matplotlib.pyplot as plt\n",
        "from sklearn.model_selection import train_test_split\n",
        "from tensorflow.keras.preprocessing.image import ImageDataGenerator\n",
        "import kagglehub\n",
        "import os"
      ]
    },
    {
      "cell_type": "code",
      "execution_count": null,
      "metadata": {
        "id": "_o3miC09mcE-"
      },
      "outputs": [],
      "source": [
        "base_model = tf.keras.applications.ResNet50(weights='imagenet', include_top=False, input_shape=(224, 224, 3))\n",
        "base_model.trainable = False\n"
      ]
    },
    {
      "cell_type": "code",
      "execution_count": null,
      "metadata": {
        "id": "t89gNXzwmhaq"
      },
      "outputs": [],
      "source": [
        "model = models.Sequential([\n",
        "    base_model,\n",
        "    layers.GlobalAveragePooling2D(),\n",
        "    layers.Dense(256, activation='relu'),\n",
        "    layers.Dropout(0.5),\n",
        "    layers.Dense(23, activation='softmax')\n",
        "])"
      ]
    },
    {
      "cell_type": "code",
      "execution_count": null,
      "metadata": {
        "id": "S4BhC4jHmiiL"
      },
      "outputs": [],
      "source": [
        "model.compile(optimizer=optimizers.Adam(),\n",
        "              loss=losses.SparseCategoricalCrossentropy(),\n",
        "              metrics=['accuracy'])\n"
      ]
    },
    {
      "cell_type": "code",
      "execution_count": null,
      "metadata": {
        "id": "n1iS7bw-mlGt"
      },
      "outputs": [],
      "source": [
        "def scheduler(epoch, lr):\n",
        "    if epoch < 23:\n",
        "        return lr\n",
        "    else:\n",
        "        return lr * tf.math.exp(-0.1)"
      ]
    },
    {
      "cell_type": "code",
      "execution_count": null,
      "metadata": {
        "id": "yyTnUWowmm1F"
      },
      "outputs": [],
      "source": [
        "\n",
        "lr_scheduler = LearningRateScheduler(scheduler)"
      ]
    },
    {
      "cell_type": "code",
      "execution_count": null,
      "metadata": {
        "id": "REzWL8mvmoxT"
      },
      "outputs": [],
      "source": [
        "checkpoint = ModelCheckpoint('best_model.h5', monitor='val_accuracy', save_best_only=True, mode='max')"
      ]
    },
    {
      "cell_type": "code",
      "execution_count": null,
      "metadata": {
        "id": "Ml3I6Z7-mqRG"
      },
      "outputs": [],
      "source": [
        "train_datagen = ImageDataGenerator(\n",
        "    rescale=1./255,\n",
        "    shear_range=0.2,\n",
        "    zoom_range=0.2,\n",
        "    horizontal_flip=True,\n",
        "    validation_split=0.2)"
      ]
    },
    {
      "cell_type": "code",
      "execution_count": null,
      "metadata": {
        "id": "gXfYA2nJmtyo"
      },
      "outputs": [],
      "source": [
        "path = kagglehub.dataset_download(\"vencerlanz09/sea-animals-image-dataste\")\n"
      ]
    },
    {
      "cell_type": "code",
      "execution_count": null,
      "metadata": {
        "colab": {
          "base_uri": "https://localhost:8080/"
        },
        "id": "e8FVV_7wmxDg",
        "outputId": "0ddb9d21-8042-4ab2-8e3c-c2f750ef2629"
      },
      "outputs": [
        {
          "name": "stdout",
          "output_type": "stream",
          "text": [
            "Found 10979 images belonging to 23 classes.\n"
          ]
        }
      ],
      "source": [
        "\n",
        "\n",
        "train_generator = train_datagen.flow_from_directory(\n",
        "    path,\n",
        "    target_size=(224, 224),\n",
        "    batch_size=32,\n",
        "    class_mode='sparse',\n",
        "    subset='training')"
      ]
    },
    {
      "cell_type": "code",
      "execution_count": null,
      "metadata": {
        "colab": {
          "base_uri": "https://localhost:8080/"
        },
        "id": "sVHaATOfm0cX",
        "outputId": "81ecc141-edc7-4da6-84fe-3937928b6c6e"
      },
      "outputs": [
        {
          "name": "stdout",
          "output_type": "stream",
          "text": [
            "Found 10979 images belonging to 23 classes.\n"
          ]
        }
      ],
      "source": [
        "\n",
        "\n",
        "train_generator = train_datagen.flow_from_directory(\n",
        "    path,\n",
        "    target_size=(224, 224),\n",
        "    batch_size=32,\n",
        "    class_mode='sparse',\n",
        "    subset='training')"
      ]
    },
    {
      "cell_type": "code",
      "execution_count": null,
      "metadata": {
        "colab": {
          "base_uri": "https://localhost:8080/"
        },
        "id": "o0I3iSSNnCYC",
        "outputId": "d9e82316-a753-4b35-993b-0584356fce0b"
      },
      "outputs": [
        {
          "name": "stdout",
          "output_type": "stream",
          "text": [
            "Found 2732 images belonging to 23 classes.\n"
          ]
        }
      ],
      "source": [
        "validation_generator = train_datagen.flow_from_directory(\n",
        "    path,  # Replace with the path to your dataset\n",
        "    target_size=(224, 224),\n",
        "    batch_size=32,\n",
        "    class_mode='sparse',\n",
        "    subset='validation')"
      ]
    },
    {
      "cell_type": "code",
      "execution_count": null,
      "metadata": {
        "colab": {
          "base_uri": "https://localhost:8080/"
        },
        "id": "ngi7amvXm6hm",
        "outputId": "6c8bfee7-dd5d-4e33-a8d8-0a1c8f95685d"
      },
      "outputs": [
        {
          "metadata": {
            "tags": null
          },
          "name": "stdout",
          "output_type": "stream",
          "text": [
            "Epoch 1/20\n",
            "\u001b[1m344/344\u001b[0m \u001b[32m━━━━━━━━━━━━━━━━━━━━\u001b[0m\u001b[37m\u001b[0m \u001b[1m0s\u001b[0m 6s/step - accuracy: 0.1215 - loss: 3.1432"
          ]
        },
        {
          "metadata": {
            "tags": null
          },
          "name": "stderr",
          "output_type": "stream",
          "text": [
            "WARNING:absl:You are saving your model as an HDF5 file via `model.save()` or `keras.saving.save_model(model)`. This file format is considered legacy. We recommend using instead the native Keras format, e.g. `model.save('my_model.keras')` or `keras.saving.save_model(model, 'my_model.keras')`. \n"
          ]
        },
        {
          "metadata": {
            "tags": null
          },
          "name": "stdout",
          "output_type": "stream",
          "text": [
            "\u001b[1m344/344\u001b[0m \u001b[32m━━━━━━━━━━━━━━━━━━━━\u001b[0m\u001b[37m\u001b[0m \u001b[1m2720s\u001b[0m 8s/step - accuracy: 0.1215 - loss: 3.1430 - val_accuracy: 0.1567 - val_loss: 3.0066 - learning_rate: 0.0010\n",
            "Epoch 2/20\n",
            "\u001b[1m344/344\u001b[0m \u001b[32m━━━━━━━━━━━━━━━━━━━━\u001b[0m\u001b[37m\u001b[0m \u001b[1m2636s\u001b[0m 8s/step - accuracy: 0.1415 - loss: 2.9875 - val_accuracy: 0.1475 - val_loss: 2.9172 - learning_rate: 0.0010\n",
            "Epoch 3/20\n",
            "\u001b[1m344/344\u001b[0m \u001b[32m━━━━━━━━━━━━━━━━━━━━\u001b[0m\u001b[37m\u001b[0m \u001b[1m0s\u001b[0m 6s/step - accuracy: 0.1491 - loss: 2.9518"
          ]
        },
        {
          "metadata": {
            "tags": null
          },
          "name": "stderr",
          "output_type": "stream",
          "text": [
            "WARNING:absl:You are saving your model as an HDF5 file via `model.save()` or `keras.saving.save_model(model)`. This file format is considered legacy. We recommend using instead the native Keras format, e.g. `model.save('my_model.keras')` or `keras.saving.save_model(model, 'my_model.keras')`. \n"
          ]
        },
        {
          "metadata": {
            "tags": null
          },
          "name": "stdout",
          "output_type": "stream",
          "text": [
            "\u001b[1m344/344\u001b[0m \u001b[32m━━━━━━━━━━━━━━━━━━━━\u001b[0m\u001b[37m\u001b[0m \u001b[1m2665s\u001b[0m 8s/step - accuracy: 0.1491 - loss: 2.9519 - val_accuracy: 0.1570 - val_loss: 2.9019 - learning_rate: 0.0010\n",
            "Epoch 4/20\n",
            "\u001b[1m344/344\u001b[0m \u001b[32m━━━━━━━━━━━━━━━━━━━━\u001b[0m\u001b[37m\u001b[0m \u001b[1m0s\u001b[0m 6s/step - accuracy: 0.1465 - loss: 2.9385"
          ]
        },
        {
          "metadata": {
            "tags": null
          },
          "name": "stderr",
          "output_type": "stream",
          "text": [
            "WARNING:absl:You are saving your model as an HDF5 file via `model.save()` or `keras.saving.save_model(model)`. This file format is considered legacy. We recommend using instead the native Keras format, e.g. `model.save('my_model.keras')` or `keras.saving.save_model(model, 'my_model.keras')`. \n"
          ]
        },
        {
          "metadata": {
            "tags": null
          },
          "name": "stdout",
          "output_type": "stream",
          "text": [
            "\u001b[1m344/344\u001b[0m \u001b[32m━━━━━━━━━━━━━━━━━━━━\u001b[0m\u001b[37m\u001b[0m \u001b[1m2536s\u001b[0m 7s/step - accuracy: 0.1465 - loss: 2.9385 - val_accuracy: 0.1633 - val_loss: 2.8698 - learning_rate: 0.0010\n",
            "Epoch 5/20\n",
            "\u001b[1m344/344\u001b[0m \u001b[32m━━━━━━━━━━━━━━━━━━━━\u001b[0m\u001b[37m\u001b[0m \u001b[1m2561s\u001b[0m 7s/step - accuracy: 0.1500 - loss: 2.9267 - val_accuracy: 0.1625 - val_loss: 2.8466 - learning_rate: 0.0010\n",
            "Epoch 6/20\n",
            "\u001b[1m344/344\u001b[0m \u001b[32m━━━━━━━━━━━━━━━━━━━━\u001b[0m\u001b[37m\u001b[0m \u001b[1m2564s\u001b[0m 7s/step - accuracy: 0.1501 - loss: 2.9092 - val_accuracy: 0.1603 - val_loss: 2.8387 - learning_rate: 0.0010\n",
            "Epoch 7/20\n",
            "\u001b[1m344/344\u001b[0m \u001b[32m━━━━━━━━━━━━━━━━━━━━\u001b[0m\u001b[37m\u001b[0m \u001b[1m0s\u001b[0m 6s/step - accuracy: 0.1452 - loss: 2.8924"
          ]
        },
        {
          "metadata": {
            "tags": null
          },
          "name": "stderr",
          "output_type": "stream",
          "text": [
            "WARNING:absl:You are saving your model as an HDF5 file via `model.save()` or `keras.saving.save_model(model)`. This file format is considered legacy. We recommend using instead the native Keras format, e.g. `model.save('my_model.keras')` or `keras.saving.save_model(model, 'my_model.keras')`. \n"
          ]
        },
        {
          "metadata": {
            "tags": null
          },
          "name": "stdout",
          "output_type": "stream",
          "text": [
            "\u001b[1m344/344\u001b[0m \u001b[32m━━━━━━━━━━━━━━━━━━━━\u001b[0m\u001b[37m\u001b[0m \u001b[1m2568s\u001b[0m 7s/step - accuracy: 0.1452 - loss: 2.8924 - val_accuracy: 0.1702 - val_loss: 2.8247 - learning_rate: 0.0010\n",
            "Epoch 8/20\n",
            "\u001b[1m344/344\u001b[0m \u001b[32m━━━━━━━━━━━━━━━━━━━━\u001b[0m\u001b[37m\u001b[0m \u001b[1m0s\u001b[0m 6s/step - accuracy: 0.1509 - loss: 2.8876"
          ]
        },
        {
          "metadata": {
            "tags": null
          },
          "name": "stderr",
          "output_type": "stream",
          "text": [
            "WARNING:absl:You are saving your model as an HDF5 file via `model.save()` or `keras.saving.save_model(model)`. This file format is considered legacy. We recommend using instead the native Keras format, e.g. `model.save('my_model.keras')` or `keras.saving.save_model(model, 'my_model.keras')`. \n"
          ]
        },
        {
          "metadata": {
            "tags": null
          },
          "name": "stdout",
          "output_type": "stream",
          "text": [
            "\u001b[1m344/344\u001b[0m \u001b[32m━━━━━━━━━━━━━━━━━━━━\u001b[0m\u001b[37m\u001b[0m \u001b[1m2665s\u001b[0m 8s/step - accuracy: 0.1509 - loss: 2.8876 - val_accuracy: 0.1728 - val_loss: 2.8232 - learning_rate: 0.0010\n",
            "Epoch 9/20\n",
            "\u001b[1m344/344\u001b[0m \u001b[32m━━━━━━━━━━━━━━━━━━━━\u001b[0m\u001b[37m\u001b[0m \u001b[1m0s\u001b[0m 6s/step - accuracy: 0.1566 - loss: 2.8676"
          ]
        },
        {
          "metadata": {
            "tags": null
          },
          "name": "stderr",
          "output_type": "stream",
          "text": [
            "WARNING:absl:You are saving your model as an HDF5 file via `model.save()` or `keras.saving.save_model(model)`. This file format is considered legacy. We recommend using instead the native Keras format, e.g. `model.save('my_model.keras')` or `keras.saving.save_model(model, 'my_model.keras')`. \n"
          ]
        },
        {
          "output_type": "stream",
          "name": "stdout",
          "text": [
            "\u001b[1m344/344\u001b[0m \u001b[32m━━━━━━━━━━━━━━━━━━━━\u001b[0m\u001b[37m\u001b[0m \u001b[1m2654s\u001b[0m 8s/step - accuracy: 0.1565 - loss: 2.8677 - val_accuracy: 0.1739 - val_loss: 2.8012 - learning_rate: 0.0010\n",
            "Epoch 10/20\n",
            "\u001b[1m344/344\u001b[0m \u001b[32m━━━━━━━━━━━━━━━━━━━━\u001b[0m\u001b[37m\u001b[0m \u001b[1m2596s\u001b[0m 8s/step - accuracy: 0.1483 - loss: 2.8755 - val_accuracy: 0.1713 - val_loss: 2.7997 - learning_rate: 0.0010\n",
            "Epoch 11/20\n",
            "\u001b[1m344/344\u001b[0m \u001b[32m━━━━━━━━━━━━━━━━━━━━\u001b[0m\u001b[37m\u001b[0m \u001b[1m2574s\u001b[0m 7s/step - accuracy: 0.1592 - loss: 2.8562 - val_accuracy: 0.1636 - val_loss: 2.7907 - learning_rate: 0.0010\n",
            "Epoch 12/20\n",
            "\u001b[1m344/344\u001b[0m \u001b[32m━━━━━━━━━━━━━━━━━━━━\u001b[0m\u001b[37m\u001b[0m \u001b[1m2590s\u001b[0m 8s/step - accuracy: 0.1446 - loss: 2.8588 - val_accuracy: 0.1640 - val_loss: 2.7830 - learning_rate: 0.0010\n",
            "Epoch 13/20\n",
            "\u001b[1m344/344\u001b[0m \u001b[32m━━━━━━━━━━━━━━━━━━━━\u001b[0m\u001b[37m\u001b[0m \u001b[1m2561s\u001b[0m 7s/step - accuracy: 0.1542 - loss: 2.8478 - val_accuracy: 0.1676 - val_loss: 2.7610 - learning_rate: 0.0010\n",
            "Epoch 14/20\n",
            "\u001b[1m344/344\u001b[0m \u001b[32m━━━━━━━━━━━━━━━━━━━━\u001b[0m\u001b[37m\u001b[0m \u001b[1m2579s\u001b[0m 7s/step - accuracy: 0.1546 - loss: 2.8436 - val_accuracy: 0.1665 - val_loss: 2.7644 - learning_rate: 0.0010\n",
            "Epoch 15/20\n",
            "\u001b[1m344/344\u001b[0m \u001b[32m━━━━━━━━━━━━━━━━━━━━\u001b[0m\u001b[37m\u001b[0m \u001b[1m2577s\u001b[0m 7s/step - accuracy: 0.1515 - loss: 2.8455 - val_accuracy: 0.1654 - val_loss: 2.7627 - learning_rate: 0.0010\n",
            "Epoch 16/20\n",
            "\u001b[1m344/344\u001b[0m \u001b[32m━━━━━━━━━━━━━━━━━━━━\u001b[0m\u001b[37m\u001b[0m \u001b[1m2668s\u001b[0m 8s/step - accuracy: 0.1488 - loss: 2.8458 - val_accuracy: 0.1684 - val_loss: 2.7342 - learning_rate: 0.0010\n",
            "Epoch 17/20\n",
            "\u001b[1m344/344\u001b[0m \u001b[32m━━━━━━━━━━━━━━━━━━━━\u001b[0m\u001b[37m\u001b[0m \u001b[1m2575s\u001b[0m 7s/step - accuracy: 0.1533 - loss: 2.8353 - val_accuracy: 0.1717 - val_loss: 2.7283 - learning_rate: 0.0010\n",
            "Epoch 18/20\n",
            "\u001b[1m344/344\u001b[0m \u001b[32m━━━━━━━━━━━━━━━━━━━━\u001b[0m\u001b[37m\u001b[0m \u001b[1m2640s\u001b[0m 8s/step - accuracy: 0.1542 - loss: 2.8299 - val_accuracy: 0.1728 - val_loss: 2.7237 - learning_rate: 0.0010\n",
            "Epoch 19/20\n",
            "\u001b[1m344/344\u001b[0m \u001b[32m━━━━━━━━━━━━━━━━━━━━\u001b[0m\u001b[37m\u001b[0m \u001b[1m2667s\u001b[0m 8s/step - accuracy: 0.1595 - loss: 2.8191 - val_accuracy: 0.1669 - val_loss: 2.7282 - learning_rate: 0.0010\n",
            "Epoch 20/20\n",
            "\u001b[1m344/344\u001b[0m \u001b[32m━━━━━━━━━━━━━━━━━━━━\u001b[0m\u001b[37m\u001b[0m \u001b[1m2621s\u001b[0m 8s/step - accuracy: 0.1558 - loss: 2.8154 - val_accuracy: 0.1622 - val_loss: 2.7117 - learning_rate: 0.0010\n"
          ]
        }
      ],
      "source": [
        "history = model.fit(\n",
        "    train_generator,\n",
        "    validation_data=validation_generator,\n",
        "    epochs=20,\n",
        "    callbacks=[checkpoint, lr_scheduler])"
      ]
    },
    {
      "cell_type": "code",
      "execution_count": null,
      "metadata": {
        "colab": {
          "base_uri": "https://localhost:8080/",
          "height": 472
        },
        "id": "FD6yUkCc9vvr",
        "outputId": "db010ebc-dde2-4054-9b1d-c0f366ed4e03"
      },
      "outputs": [
        {
          "output_type": "display_data",
          "data": {
            "text/plain": [
              "<Figure size 640x480 with 1 Axes>"
            ],
            "image/png": "[encoded data removed]"
          },
          "metadata": {}
        }
      ],
      "source": [
        "# Plot training & validation accuracy values\n",
        "plt.plot(history.history['accuracy'])\n",
        "plt.plot(history.history['val_accuracy'])\n",
        "plt.title('Model accuracy')\n",
        "plt.ylabel('Accuracy')\n",
        "plt.xlabel('Epoch')\n",
        "plt.legend(['Train', 'Validation'], loc='upper left')\n",
        "plt.show()"
      ]
    },
    {
      "cell_type": "code",
      "source": [
        "plt.plot(history.history['loss'])\n",
        "plt.plot(history.history['val_loss'])\n",
        "plt.title('Model loss')\n",
        "plt.ylabel('Loss')\n",
        "plt.xlabel('Epoch')\n",
        "plt.legend(['Train', 'Validation'], loc='upper left')\n",
        "plt.show()"
      ],
      "metadata": {
        "colab": {
          "base_uri": "https://localhost:8080/",
          "height": 472
        },
        "id": "YNwcTkRzd7w8",
        "outputId": "e1332bea-f072-48b7-9e0c-bfa94403523d"
      },
      "execution_count": null,
      "outputs": [
        {
          "output_type": "display_data",
          "data": {
            "text/plain": [
              "<Figure size 640x480 with 1 Axes>"
            ],
            "image/png": "[encoded data removed]"
          },
          "metadata": {}
        }
      ]
    },
    {
      "cell_type": "code",
      "source": [
        "model.save('final_model.h5')"
      ],
      "metadata": {
        "colab": {
          "base_uri": "https://localhost:8080/"
        },
        "id": "VZYeqyX6fJN-",
        "outputId": "2ecbfdf6-2285-4b22-906f-acaf6b6fc8e9"
      },
      "execution_count": null,
      "outputs": [
        {
          "output_type": "stream",
          "name": "stderr",
          "text": [
            "WARNING:absl:You are saving your model as an HDF5 file via `model.save()` or `keras.saving.save_model(model)`. This file format is considered legacy. We recommend using instead the native Keras format, e.g. `model.save('my_model.keras')` or `keras.saving.save_model(model, 'my_model.keras')`. \n"
          ]
        }
      ]
    },
    {
      "cell_type": "code",
      "source": [
        "from tensorflow.keras.preprocessing import image"
      ],
      "metadata": {
        "id": "QJ7SwHsZhqFf"
      },
      "execution_count": null,
      "outputs": []
    },
    {
      "cell_type": "code",
      "source": [
        "from tensorflow.keras.preprocessing import image\n",
        "import numpy as np\n",
        "\n",
        "# Load the image (replace 'path_to_image.jpg' with the actual image path)\n",
        "img_path = 'img.jpg'  # Path to the image you want to predict\n",
        "img = image.load_img(img_path, target_size=(224, 224))  # Resize image to match model input\n",
        "\n",
        "# Convert the image to an array and preprocess it\n",
        "img_array = image.img_to_array(img)\n",
        "img_array = np.expand_dims(img_array, axis=0)  # Add batch dimension\n",
        "img_array = img_array / 255.0  # Rescale the image\n",
        "\n",
        "# Predict the class probabilities\n",
        "predictions = model.predict(img_array)\n",
        "\n",
        "# Get the class with the highest probability\n",
        "predicted_class = np.argmax(predictions, axis=1)\n",
        "\n",
        "# Print the predicted class\n",
        "print(f\"Predicted Class: {predicted_class[0]}\")  # You can map this to your actual class labels\n",
        "\n"
      ],
      "metadata": {
        "colab": {
          "base_uri": "https://localhost:8080/"
        },
        "id": "6U8PGkxIfNB-",
        "outputId": "0ffd2d02-a988-40bc-9bf3-af5ea90ba92f"
      },
      "execution_count": null,
      "outputs": [
        {
          "output_type": "stream",
          "name": "stdout",
          "text": [
            "\u001b[1m1/1\u001b[0m \u001b[32m━━━━━━━━━━━━━━━━━━━━\u001b[0m\u001b[37m\u001b[0m \u001b[1m0s\u001b[0m 291ms/step\n",
            "Predicted Class: 21\n"
          ]
        }
      ]
    },
    {
      "cell_type": "code",
      "source": [
        "class_names = list(train_generator.class_indices.keys())\n",
        "\n",
        "# Print the class names (which correspond to the folders in the dataset)\n",
        "print(\"Class Names: \", class_names)"
      ],
      "metadata": {
        "colab": {
          "base_uri": "https://localhost:8080/"
        },
        "id": "ZegamTHym4Nv",
        "outputId": "14486227-cf75-4dd9-e7b9-574910752bcd"
      },
      "execution_count": null,
      "outputs": [
        {
          "output_type": "stream",
          "name": "stdout",
          "text": [
            "Class Names:  ['Clams', 'Corals', 'Crabs', 'Dolphin', 'Eel', 'Fish', 'Jelly Fish', 'Lobster', 'Nudibranchs', 'Octopus', 'Otter', 'Penguin', 'Puffers', 'Sea Rays', 'Sea Urchins', 'Seahorse', 'Seal', 'Sharks', 'Shrimp', 'Squid', 'Starfish', 'Turtle_Tortoise', 'Whale']\n"
          ]
        }
      ]
    },
    {
      "cell_type": "code",
      "source": [
        "from tensorflow.keras.preprocessing import image\n",
        "import numpy as np\n",
        "\n",
        "# Load the image (replace 'path_to_image.jpg' with the actual image path)\n",
        "img_path = 'dolphin.jpg'  # Path to the image you want to predict\n",
        "img = image.load_img(img_path, target_size=(224, 224))  # Resize image to match model input\n",
        "\n",
        "# Convert the image to an array and preprocess it\n",
        "img_array = image.img_to_array(img)\n",
        "img_array = np.expand_dims(img_array, axis=0)  # Add batch dimension\n",
        "img_array = img_array / 255.0  # Rescale the image\n",
        "\n",
        "# Make the prediction\n",
        "predictions = model.predict(img_array)\n",
        "\n",
        "# Get the predicted class index\n",
        "predicted_class_index = np.argmax(predictions, axis=1)\n",
        "\n",
        "# Define the class names array\n",
        "class_names = [\n",
        "    'Clams', 'Corals', 'Crabs', 'Dolphin', 'Eel', 'Fish', 'Jelly Fish',\n",
        "    'Lobster', 'Nudibranchs', 'Octopus', 'Otter', 'Penguin', 'Puffers',\n",
        "    'Sea Rays', 'Sea Urchins', 'Seahorse', 'Seal', 'Sharks', 'Shrimp',\n",
        "    'Squid', 'Starfish', 'Turtle_Tortoise', 'Whale'\n",
        "]\n",
        "\n",
        "# Map the predicted class index to the class name\n",
        "predicted_class_name = class_names[predicted_class_index[0]]\n",
        "\n",
        "# Print the predicted class index and name\n",
        "print(f\"Predicted Class Index: {predicted_class_index[0]}\")\n",
        "print(f\"Predicted Class Name: {predicted_class_name}\")\n"
      ],
      "metadata": {
        "colab": {
          "base_uri": "https://localhost:8080/"
        },
        "id": "todN0RvbnKMI",
        "outputId": "84ba6132-8706-43d7-f54e-aaf05a6d2075"
      },
      "execution_count": null,
      "outputs": [
        {
          "output_type": "stream",
          "name": "stdout",
          "text": [
            "\u001b[1m1/1\u001b[0m \u001b[32m━━━━━━━━━━━━━━━━━━━━\u001b[0m\u001b[37m\u001b[0m \u001b[1m0s\u001b[0m 225ms/step\n",
            "Predicted Class Index: 21\n",
            "Predicted Class Name: Turtle_Tortoise\n"
          ]
        }
      ]
    }
  ],
  "metadata": {
    "colab": {
      "provenance": []
    },
    "kernelspec": {
      "display_name": "Python 3",
      "name": "python3"
    },
    "language_info": {
      "name": "python"
    }
  },
  "nbformat": 4,
  "nbformat_minor": 0
}